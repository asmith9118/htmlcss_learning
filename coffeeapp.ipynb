{
 "cells": [
  {
   "cell_type": "code",
   "execution_count": 1,
   "metadata": {},
   "outputs": [
    {
     "ename": "SyntaxError",
     "evalue": "Unexpected token '<'",
     "output_type": "error",
     "traceback": [
      "evalmachine.<anonymous>:1",
      "<!DOCTYPE html>",
      "^",
      "",
      "SyntaxError: Unexpected token '<'",
      "    at new Script (node:vm:99:7)",
      "    at createScript (node:vm:249:10)",
      "    at Object.runInThisContext (node:vm:297:10)",
      "    at run ([eval]:1020:15)",
      "    at onRunRequest ([eval]:864:18)",
      "    at onMessage ([eval]:828:13)",
      "    at process.emit (node:events:517:28)",
      "    at emit (node:internal/child_process:944:14)",
      "    at process.processTicksAndRejections (node:internal/process/task_queues:83:21)"
     ]
    }
   ],
   "source": [
    "<!DOCTYPE html>\n",
    "<html lang=\"en\">\n",
    "  <head>\n",
    "    <meta charset=\"utf-8\" />\n",
    "    <meta name=\"viewport\" content=\"width=device-width, initial-scale=1.0\" />\n",
    "    <title>Cafe Menu</title>\n",
    "    <link href=\"coffeestyle.css\" rel=\"stylesheet\"/>\n",
    "  </head>\n",
    "  <body>\n",
    "    <div class=\"menu\">\n",
    "      <main>\n",
    "        <h1>CAMPER CAFE</h1>\n",
    "        <p class=\"established\">Est. 2020</p>\n",
    "        <hr>\n",
    "        <section>\n",
    "          <h2>Coffee</h2>\n",
    "          <img src=\"https://cdn.freecodecamp.org/curriculum/css-cafe/coffee.jpg\" alt=\"coffee icon\"/>\n",
    "          <article class=\"item\">\n",
    "            <p class=\"flavor\">French Vanilla</p><p class=\"price\">3.00</p>\n",
    "          </article>\n",
    "          <article class=\"item\">\n",
    "            <p class=\"flavor\">Caramel Macchiato</p><p class=\"price\">3.75</p>\n",
    "          </article>\n",
    "          <article class=\"item\">\n",
    "            <p class=\"flavor\">Pumpkin Spice</p><p class=\"price\">3.50</p>\n",
    "          </article>\n",
    "          <article class=\"item\">\n",
    "            <p class=\"flavor\">Hazelnut</p><p class=\"price\">4.00</p>\n",
    "          </article>\n",
    "          <article class=\"item\">\n",
    "            <p class=\"flavor\">Mocha</p><p class=\"price\">4.50</p>\n",
    "          </article>\n",
    "        </section>\n",
    "        <section>\n",
    "          <h2>Desserts</h2>\n",
    "          <img src=\"https://cdn.freecodecamp.org/curriculum/css-cafe/pie.jpg\" alt=\"pie icon\"/>\n",
    "          <article class=\"item\">\n",
    "            <p class=\"dessert\">Donut</p><p class=\"price\">1.50</p>\n",
    "          </article>\n",
    "          <article class=\"item\">\n",
    "            <p class=\"dessert\">Cherry Pie</p><p class=\"price\">2.75</p>\n",
    "          </article>\n",
    "          <article class=\"item\">\n",
    "            <p class=\"dessert\">Cheesecake</p><p class=\"price\">3.00</p>\n",
    "          </article>\n",
    "          <article class=\"item\">\n",
    "            <p class=\"dessert\">Cinnamon Roll</p><p class=\"price\">2.50</p>\n",
    "          </article>\n",
    "        </section>\n",
    "      </main>\n",
    "      <hr class=\"bottom-line\">\n",
    "      <footer>\n",
    "        <p>\n",
    "          <a href=\"https://www.freecodecamp.org\" target=\"_blank\">Visit our website</a>\n",
    "        </p>\n",
    "        <p class=\"address\">123 Free Code Camp Drive</p>\n",
    "      </footer>\n",
    "    </div>\n",
    "  </body>\n",
    "</html>"
   ]
  }
 ],
 "metadata": {
  "kernelspec": {
   "display_name": "JavaScript (Node.js)",
   "language": "javascript",
   "name": "javascript"
  },
  "language_info": {
   "file_extension": ".js",
   "mimetype": "application/javascript",
   "name": "javascript",
   "version": "18.20.7"
  }
 },
 "nbformat": 4,
 "nbformat_minor": 2
}
